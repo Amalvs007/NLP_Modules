{
 "cells": [
  {
   "cell_type": "code",
   "execution_count": 1,
   "metadata": {},
   "outputs": [],
   "source": [
    "import re"
   ]
  },
  {
   "cell_type": "markdown",
   "metadata": {},
   "source": [
    "### Phone Number"
   ]
  },
  {
   "cell_type": "code",
   "execution_count": 6,
   "metadata": {},
   "outputs": [
    {
     "data": {
      "text/plain": [
       "['8714135828', '(701)-275-3692', '+918714135828', '+91-8714135828']"
      ]
     },
     "execution_count": 6,
     "metadata": {},
     "output_type": "execute_result"
    }
   ],
   "source": [
    "chatbot=\"Please share your email id and phone number?\"\n",
    "user=\"Here you go : my mail id is arunvignesh377@gmail.com and my phone number is 8714135828 also find my alternative number (701)-275-3692, +918714135828,+91-8714135828\"\n",
    "\n",
    "pattern=\"\\(\\d{3}\\)-\\d{3}-\\d{4}|\\d{10}|\\+\\d{12}|\\+\\d{2}-\\d{10}\"\n",
    "matches= re.findall(pattern,user)\n",
    "matches"
   ]
  },
  {
   "cell_type": "markdown",
   "metadata": {},
   "source": [
    "### Email ID"
   ]
  },
  {
   "cell_type": "code",
   "execution_count": 8,
   "metadata": {},
   "outputs": [
    {
     "data": {
      "text/plain": [
       "['arunvignesh377@gmail.com']"
      ]
     },
     "execution_count": 8,
     "metadata": {},
     "output_type": "execute_result"
    }
   ],
   "source": [
    "pattern=\"[a-zA-Z0-9]*\\@[a-z]*\\.[a-zA-Z0-9]*\"\n",
    "matches= re.findall(pattern,user)\n",
    "matches"
   ]
  },
  {
   "cell_type": "code",
   "execution_count": 12,
   "metadata": {},
   "outputs": [
    {
     "data": {
      "text/plain": [
       "['arunvignesh377@gmail.com', 'arun_vignesh001_@hotmail.com']"
      ]
     },
     "execution_count": 12,
     "metadata": {},
     "output_type": "execute_result"
    }
   ],
   "source": [
    "chatbot=\"Please share your email id and phone number?\"\n",
    "user=\"Here you go : my mail id is arunvignesh377@gmail.com,arun_vignesh001_@hotmail.com and my phone number is 8714135828 also find my alternative number (701)-275-3692, +918714135828,+91-8714135828\"\n",
    "\n",
    "pattern=\"[a-zA-Z0-9]*\\@[a-z]*\\.[a-zA-Z0-9]*|[a-zA-Z0-9_]*\\@[a-z]*\\.[a-zA-Z0-9]*\"\n",
    "matches= re.findall(pattern,user)\n",
    "matches"
   ]
  },
  {
   "cell_type": "code",
   "execution_count": 95,
   "metadata": {},
   "outputs": [
    {
     "data": {
      "text/plain": [
       "[('arunvignesh377', ''), ('', 'arun_vignesh001_')]"
      ]
     },
     "execution_count": 95,
     "metadata": {},
     "output_type": "execute_result"
    }
   ],
   "source": [
    "# Using Group\n",
    "\n",
    "chatbot=\"Please share your email id and phone number?\"\n",
    "user=\"Here you go : my mail id is arunvignesh377@gmail.com,arun_vignesh001_@hotmail.com and my phone number is 8714135828 also find my alternative number (701)-275-3692, +918714135828,+91-8714135828\"\n",
    "\n",
    "pattern=\"([a-zA-Z0-9]*)\\@[a-z]*\\.[a-zA-Z0-9]*|([a-zA-Z0-9_]*)\\@[a-z]*\\.[a-zA-Z0-9]*\"\n",
    "matches= re.findall(pattern,user)\n",
    "matches"
   ]
  },
  {
   "cell_type": "code",
   "execution_count": 105,
   "metadata": {},
   "outputs": [],
   "source": [
    "match=[]\n",
    "\n",
    "for i in matches:\n",
    "    if i[0] != (''):\n",
    "        match.append(i[0])\n",
    "    if i[1] != (''):\n",
    "        match.append(i[1])\n"
   ]
  },
  {
   "cell_type": "code",
   "execution_count": 106,
   "metadata": {},
   "outputs": [
    {
     "data": {
      "text/plain": [
       "['arunvignesh377', 'arun_vignesh001_']"
      ]
     },
     "execution_count": 106,
     "metadata": {},
     "output_type": "execute_result"
    }
   ],
   "source": [
    "match"
   ]
  },
  {
   "cell_type": "markdown",
   "metadata": {},
   "source": [
    "### Year and Cost"
   ]
  },
  {
   "cell_type": "code",
   "execution_count": 47,
   "metadata": {},
   "outputs": [],
   "source": [
    "text = '''\n",
    "Tesla's gross cost of operating lease vehicles in FY2021 Q1 was $4.85 billion. \n",
    "In previous quarter i.e. FY2020 Q4 it was $3 billion.\n",
    "'''"
   ]
  },
  {
   "cell_type": "code",
   "execution_count": 92,
   "metadata": {},
   "outputs": [
    {
     "data": {
      "text/plain": [
       "[('FY2021 Q1', '$4.85'), ('FY2020 Q4', '$3')]"
      ]
     },
     "execution_count": 92,
     "metadata": {},
     "output_type": "execute_result"
    }
   ],
   "source": [
    "\n",
    "pattern=\"(FY\\d{4} Q[1-4]) [^\\$]+ (\\$[0-9\\.]+)\"\n",
    "\n",
    "# + and * have the same purpose\n",
    "\n",
    "matches= re.findall(pattern,text)\n",
    "matches"
   ]
  },
  {
   "cell_type": "markdown",
   "metadata": {},
   "source": [
    "### Finding Necessary Details from Document"
   ]
  },
  {
   "cell_type": "code",
   "execution_count": 2,
   "metadata": {},
   "outputs": [
    {
     "name": "stdout",
     "output_type": "stream",
     "text": [
      "Collecting PyMuPDF\n",
      "  Downloading PyMuPDF-1.20.2-cp39-cp39-win_amd64.whl (6.6 MB)\n",
      "Installing collected packages: PyMuPDF\n",
      "Successfully installed PyMuPDF-1.20.2\n"
     ]
    }
   ],
   "source": [
    "#! pip install PyMuPDF"
   ]
  },
  {
   "cell_type": "code",
   "execution_count": null,
   "metadata": {},
   "outputs": [],
   "source": [
    "# install using: pip install PyMuPDF\n",
    "import fitz \n",
    "with fitz.open(\"Resume.pdf\") as doc:\n",
    "    text = \"\"\n",
    "    for page in doc:\n",
    "        text += page.get_text()\n",
    "print(text)"
   ]
  },
  {
   "cell_type": "code",
   "execution_count": 11,
   "metadata": {},
   "outputs": [],
   "source": [
    "text = re.sub(r'\\n','',text)"
   ]
  },
  {
   "cell_type": "code",
   "execution_count": 6,
   "metadata": {},
   "outputs": [
    {
     "data": {
      "text/plain": [
       "['+91 7559823427']"
      ]
     },
     "execution_count": 6,
     "metadata": {},
     "output_type": "execute_result"
    }
   ],
   "source": [
    "# Phone Number\n",
    "\n",
    "pattern = \"\\+\\d{2} \\d{10}\"\n",
    "matches = re.findall(pattern,text)\n",
    "matches"
   ]
  },
  {
   "cell_type": "code",
   "execution_count": 12,
   "metadata": {},
   "outputs": [
    {
     "data": {
      "text/plain": [
       "['neerajvnathan2000@gmail.com']"
      ]
     },
     "execution_count": 12,
     "metadata": {},
     "output_type": "execute_result"
    }
   ],
   "source": [
    "# Email ID\n",
    "\n",
    "pattern = \"[a-zA-Z0-9]*\\@[a-z]*\\.[a-z]*\"\n",
    "matches = re.findall(pattern,text)\n",
    "matches"
   ]
  },
  {
   "cell_type": "code",
   "execution_count": null,
   "metadata": {},
   "outputs": [],
   "source": [
    "# \"\\• [a-zA-Z.]* [a-zA-Z]*\""
   ]
  }
 ],
 "metadata": {
  "kernelspec": {
   "display_name": "Python 3.9.12 ('base')",
   "language": "python",
   "name": "python3"
  },
  "language_info": {
   "codemirror_mode": {
    "name": "ipython",
    "version": 3
   },
   "file_extension": ".py",
   "mimetype": "text/x-python",
   "name": "python",
   "nbconvert_exporter": "python",
   "pygments_lexer": "ipython3",
   "version": "3.9.12"
  },
  "orig_nbformat": 4,
  "vscode": {
   "interpreter": {
    "hash": "2a25ba668f13fcf467d88183e7645e19b46906129a42fe71d135f5c2beab900c"
   }
  }
 },
 "nbformat": 4,
 "nbformat_minor": 2
}
