{
 "cells": [
  {
   "cell_type": "code",
   "execution_count": 7,
   "metadata": {},
   "outputs": [],
   "source": [
    "# ! pip install nltk"
   ]
  },
  {
   "cell_type": "code",
   "execution_count": 8,
   "metadata": {},
   "outputs": [],
   "source": [
    "# ! pip show nltk"
   ]
  },
  {
   "cell_type": "markdown",
   "metadata": {},
   "source": [
    "# Import Libraries"
   ]
  },
  {
   "cell_type": "code",
   "execution_count": 1,
   "metadata": {},
   "outputs": [],
   "source": [
    "import nltk\n",
    "import re # Regular Expression\n",
    "# nltk.download('punkt') # Used for Tokenization\n",
    "# nltk.download('wordnet')\n",
    "# nltk.download('omw-1.4')\n",
    "# nltk.download('stopwords')\n",
    "\n",
    "from nltk.corpus import stopwords # Used for stopwords\n",
    "from nltk.stem.porter import PorterStemmer # Used for stemming\n",
    "from nltk.stem.wordnet import WordNetLemmatizer # Used for Lemmatization\n",
    "from nltk.tokenize import sent_tokenize, word_tokenize\n",
    "\n"
   ]
  },
  {
   "cell_type": "markdown",
   "metadata": {},
   "source": [
    "### Input Text"
   ]
  },
  {
   "cell_type": "code",
   "execution_count": 11,
   "metadata": {},
   "outputs": [],
   "source": [
    "text = \"Natural Language processing is an exciting area. Huge budget have been allocated for this.\""
   ]
  },
  {
   "cell_type": "markdown",
   "metadata": {},
   "source": [
    "### Tokenization"
   ]
  },
  {
   "cell_type": "code",
   "execution_count": 12,
   "metadata": {},
   "outputs": [
    {
     "data": {
      "text/plain": [
       "['Natural Language processing is an exciting area.',\n",
       " 'Huge budget have been allocated for this.']"
      ]
     },
     "execution_count": 12,
     "metadata": {},
     "output_type": "execute_result"
    }
   ],
   "source": [
    "# Sent tokenize\n",
    "sent_tokenize(text)"
   ]
  },
  {
   "cell_type": "code",
   "execution_count": 19,
   "metadata": {},
   "outputs": [
    {
     "name": "stdout",
     "output_type": "stream",
     "text": [
      "['Natural', 'Language', 'processing', 'is', 'an', 'exciting', 'area', '.', 'Huge', 'budget', 'have', 'been', 'allocated', 'for', 'this', '.']\n"
     ]
    }
   ],
   "source": [
    "# Word Tokenize\n",
    "print(word_tokenize(text))"
   ]
  },
  {
   "cell_type": "markdown",
   "metadata": {},
   "source": [
    "### Lower case Conversion"
   ]
  },
  {
   "cell_type": "code",
   "execution_count": 21,
   "metadata": {},
   "outputs": [
    {
     "name": "stdout",
     "output_type": "stream",
     "text": [
      "['natural', 'language', 'processing', 'is', 'an', 'exciting', 'area', 'huge', 'budget', 'have', 'been', 'allocated', 'for', 'this']\n"
     ]
    }
   ],
   "source": [
    "text = re.sub(r\"[^a-zA-Z0-9]\",\" \",text.lower())\n",
    "words = text.split()\n",
    "print(words)"
   ]
  },
  {
   "cell_type": "markdown",
   "metadata": {},
   "source": [
    "### Stop word removal"
   ]
  },
  {
   "cell_type": "code",
   "execution_count": 22,
   "metadata": {},
   "outputs": [
    {
     "name": "stdout",
     "output_type": "stream",
     "text": [
      "['i', 'me', 'my', 'myself', 'we', 'our', 'ours', 'ourselves', 'you', \"you're\", \"you've\", \"you'll\", \"you'd\", 'your', 'yours', 'yourself', 'yourselves', 'he', 'him', 'his', 'himself', 'she', \"she's\", 'her', 'hers', 'herself', 'it', \"it's\", 'its', 'itself', 'they', 'them', 'their', 'theirs', 'themselves', 'what', 'which', 'who', 'whom', 'this', 'that', \"that'll\", 'these', 'those', 'am', 'is', 'are', 'was', 'were', 'be', 'been', 'being', 'have', 'has', 'had', 'having', 'do', 'does', 'did', 'doing', 'a', 'an', 'the', 'and', 'but', 'if', 'or', 'because', 'as', 'until', 'while', 'of', 'at', 'by', 'for', 'with', 'about', 'against', 'between', 'into', 'through', 'during', 'before', 'after', 'above', 'below', 'to', 'from', 'up', 'down', 'in', 'out', 'on', 'off', 'over', 'under', 'again', 'further', 'then', 'once', 'here', 'there', 'when', 'where', 'why', 'how', 'all', 'any', 'both', 'each', 'few', 'more', 'most', 'other', 'some', 'such', 'no', 'nor', 'not', 'only', 'own', 'same', 'so', 'than', 'too', 'very', 's', 't', 'can', 'will', 'just', 'don', \"don't\", 'should', \"should've\", 'now', 'd', 'll', 'm', 'o', 're', 've', 'y', 'ain', 'aren', \"aren't\", 'couldn', \"couldn't\", 'didn', \"didn't\", 'doesn', \"doesn't\", 'hadn', \"hadn't\", 'hasn', \"hasn't\", 'haven', \"haven't\", 'isn', \"isn't\", 'ma', 'mightn', \"mightn't\", 'mustn', \"mustn't\", 'needn', \"needn't\", 'shan', \"shan't\", 'shouldn', \"shouldn't\", 'wasn', \"wasn't\", 'weren', \"weren't\", 'won', \"won't\", 'wouldn', \"wouldn't\"]\n"
     ]
    }
   ],
   "source": [
    "print(stopwords.words(\"english\"))"
   ]
  },
  {
   "cell_type": "code",
   "execution_count": 25,
   "metadata": {},
   "outputs": [],
   "source": [
    "final_words=[]\n",
    "for w in words:\n",
    "    if w not in stopwords.words(\"english\"):\n",
    "        final_words.append(w)"
   ]
  },
  {
   "cell_type": "code",
   "execution_count": 29,
   "metadata": {},
   "outputs": [
    {
     "data": {
      "text/plain": [
       "['natural',\n",
       " 'language',\n",
       " 'processing',\n",
       " 'exciting',\n",
       " 'area',\n",
       " 'huge',\n",
       " 'budget',\n",
       " 'allocated']"
      ]
     },
     "execution_count": 29,
     "metadata": {},
     "output_type": "execute_result"
    }
   ],
   "source": [
    "words = [w for w in words if w not in stopwords.words(\"english\")]\n",
    "words"
   ]
  },
  {
   "cell_type": "code",
   "execution_count": 26,
   "metadata": {},
   "outputs": [
    {
     "data": {
      "text/plain": [
       "['natural',\n",
       " 'language',\n",
       " 'processing',\n",
       " 'exciting',\n",
       " 'area',\n",
       " 'huge',\n",
       " 'budget',\n",
       " 'allocated']"
      ]
     },
     "execution_count": 26,
     "metadata": {},
     "output_type": "execute_result"
    }
   ],
   "source": [
    "final_words"
   ]
  },
  {
   "cell_type": "markdown",
   "metadata": {},
   "source": [
    "### Stemming"
   ]
  },
  {
   "cell_type": "code",
   "execution_count": 30,
   "metadata": {},
   "outputs": [
    {
     "data": {
      "text/plain": [
       "'natur'"
      ]
     },
     "execution_count": 30,
     "metadata": {},
     "output_type": "execute_result"
    }
   ],
   "source": [
    "stemmer = PorterStemmer()\n",
    "stemmer.stem('natural')"
   ]
  },
  {
   "cell_type": "code",
   "execution_count": 32,
   "metadata": {},
   "outputs": [
    {
     "name": "stdout",
     "output_type": "stream",
     "text": [
      "['natur', 'languag', 'process', 'excit', 'area', 'huge', 'budget', 'alloc']\n"
     ]
    }
   ],
   "source": [
    "stemmed = [PorterStemmer().stem(w) for w in words]\n",
    "print(stemmed)"
   ]
  },
  {
   "cell_type": "markdown",
   "metadata": {},
   "source": [
    "### Lemmatization"
   ]
  },
  {
   "cell_type": "code",
   "execution_count": 33,
   "metadata": {},
   "outputs": [
    {
     "name": "stdout",
     "output_type": "stream",
     "text": [
      "['natural', 'language', 'processing', 'exciting', 'area', 'huge', 'budget', 'allocated']\n"
     ]
    }
   ],
   "source": [
    "lemmed = [WordNetLemmatizer().lemmatize(w) for w in words]\n",
    "print(lemmed)"
   ]
  },
  {
   "cell_type": "markdown",
   "metadata": {},
   "source": [
    "### Executing in a single cell"
   ]
  },
  {
   "cell_type": "code",
   "execution_count": 36,
   "metadata": {},
   "outputs": [
    {
     "name": "stdout",
     "output_type": "stream",
     "text": [
      "['natural', 'language', 'processing', 'exciting', 'area', 'huge', 'budget', 'allocated']\n"
     ]
    }
   ],
   "source": [
    "text = \"Natural Language processing is an exciting area. Huge budget have been allocated for this.\"\n",
    "text = re.sub(r\"[^a-zA-Z0-9]\",\" \",text.lower()) # Removing special character and lowering\n",
    "words = text.split() # Tokenization activity executed\n",
    "stopText = [w for w in words if w not in stopwords.words(\"english\")] # Stopwords executed\n",
    "finalWords = [WordNetLemmatizer().lemmatize(w) for w in stopText] # Lemmatization executed\n",
    "print(finalWords)"
   ]
  },
  {
   "cell_type": "markdown",
   "metadata": {},
   "source": [
    "### Parts of Speech"
   ]
  },
  {
   "cell_type": "code",
   "execution_count": 37,
   "metadata": {},
   "outputs": [
    {
     "name": "stderr",
     "output_type": "stream",
     "text": [
      "[nltk_data] Downloading package averaged_perceptron_tagger to\n",
      "[nltk_data]     C:\\Users\\LAP\\AppData\\Roaming\\nltk_data...\n",
      "[nltk_data]   Unzipping taggers\\averaged_perceptron_tagger.zip.\n"
     ]
    },
    {
     "data": {
      "text/plain": [
       "True"
      ]
     },
     "execution_count": 37,
     "metadata": {},
     "output_type": "execute_result"
    }
   ],
   "source": [
    "# nltk.download('averaged_perceptron_tagger')"
   ]
  },
  {
   "cell_type": "code",
   "execution_count": 38,
   "metadata": {},
   "outputs": [
    {
     "name": "stdout",
     "output_type": "stream",
     "text": [
      "[('Natural', 'JJ'), ('Language', 'NNP'), ('processing', 'NN'), ('exciting', 'VBG'), ('area', 'NN'), ('.', '.')]\n",
      "[('Huge', 'NNP'), ('budget', 'NN'), ('allocated', 'VBD'), ('.', '.')]\n"
     ]
    }
   ],
   "source": [
    "text = \"Natural Language processing is an exciting area. Huge budget have been allocated for this.\"\n",
    "\n",
    "tokenized = sent_tokenize(text)\n",
    "for i in tokenized:\n",
    "    wordList = word_tokenize(i)\n",
    "    wordList = [w for w in wordList if w not in stopwords.words(\"english\")]\n",
    "    tagged = nltk.pos_tag(wordList)\n",
    "    print(tagged)"
   ]
  },
  {
   "cell_type": "code",
   "execution_count": null,
   "metadata": {},
   "outputs": [],
   "source": [
    "# Meanings of Respective Short forms\n",
    "\n",
    "CC coordinating conjunction \n",
    "CD cardinal digit \n",
    "DT determiner \n",
    "EX existential there (like: “there is” … think of it like “there exists”) \n",
    "FW foreign word \n",
    "IN preposition/subordinating conjunction \n",
    "JJ adjective – ‘big’ \n",
    "JJR adjective, comparative – ‘bigger’ \n",
    "JJS adjective, superlative – ‘biggest’ \n",
    "LS list marker 1) \n",
    "MD modal – could, will \n",
    "NN noun, singular ‘- desk’ \n",
    "NNS noun plural – ‘desks’ \n",
    "NNP proper noun, singular – ‘Harrison’ \n",
    "NNPS proper noun, plural – ‘Americans’ \n",
    "PDT predeterminer – ‘all the kids’ \n",
    "POS possessive ending parent’s \n",
    "PRP personal pronoun –  I, he, she \n",
    "PRP$ possessive pronoun – my, his, hers \n",
    "RB adverb – very, silently, \n",
    "RBR adverb, comparative – better \n",
    "RBS adverb, superlative – best \n",
    "RP particle – give up \n",
    "TO – to go ‘to’ the store. \n",
    "UH interjection – errrrrrrrm \n",
    "VB verb, base form – take \n",
    "VBD verb, past tense – took \n",
    "VBG verb, gerund/present participle – taking \n",
    "VBN verb, past participle – taken \n",
    "VBP verb, sing. present, non-3d – take \n",
    "VBZ verb, 3rd person sing. present – takes \n",
    "WDT wh-determiner – which \n",
    "WP wh-pronoun – who, what \n",
    "WP$ possessive wh-pronoun, eg- whose \n",
    "WRB wh-adverb, eg- where, when"
   ]
  },
  {
   "cell_type": "markdown",
   "metadata": {},
   "source": [
    "# Bag of Words"
   ]
  },
  {
   "cell_type": "code",
   "execution_count": 1,
   "metadata": {},
   "outputs": [],
   "source": [
    "doc1 = 'Game of Thrones is an amazing tv series!'\n",
    "doc2 = 'Game of Thrones is the best tv series!'\n",
    "doc3 = 'Game of Thrones is so great'"
   ]
  },
  {
   "cell_type": "code",
   "execution_count": 5,
   "metadata": {},
   "outputs": [],
   "source": [
    "lower_doc1 = re.sub(r\"[^a-zA-Z0-9]\",\" \",doc1.lower()).split()\n",
    "lower_doc2 = re.sub(r\"[^a-zA-Z0-9]\",\" \",doc2.lower()).split()\n",
    "lower_doc3 = re.sub(r\"[^a-zA-Z0-9]\",\" \",doc3.lower()).split()"
   ]
  },
  {
   "cell_type": "code",
   "execution_count": 7,
   "metadata": {},
   "outputs": [],
   "source": [
    "# No need to convert to lower case with above code, as CountVectorizer will do everything.\n",
    "\n",
    "from sklearn.feature_extraction.text import CountVectorizer\n",
    "vectorizer = CountVectorizer(stop_words='english')\n",
    "x = vectorizer.fit_transform([doc1,doc2,doc3])"
   ]
  },
  {
   "cell_type": "code",
   "execution_count": 8,
   "metadata": {},
   "outputs": [
    {
     "data": {
      "text/plain": [
       "<3x7 sparse matrix of type '<class 'numpy.int64'>'\n",
       "\twith 13 stored elements in Compressed Sparse Row format>"
      ]
     },
     "execution_count": 8,
     "metadata": {},
     "output_type": "execute_result"
    }
   ],
   "source": [
    "x"
   ]
  },
  {
   "cell_type": "code",
   "execution_count": 9,
   "metadata": {},
   "outputs": [],
   "source": [
    "# When we print x, it will not show anything as we can see class is numpy.\n",
    "# Whenever anything is numpy, know that it is in array format.\n",
    "# x is a numpy object.\n",
    "# So, toarray() will give the values in the numpy object."
   ]
  },
  {
   "cell_type": "code",
   "execution_count": 12,
   "metadata": {},
   "outputs": [
    {
     "data": {
      "text/plain": [
       "array([[1, 0, 1, 0, 1, 1, 1],\n",
       "       [0, 1, 1, 0, 1, 1, 1],\n",
       "       [0, 0, 1, 1, 0, 1, 0]], dtype=int64)"
      ]
     },
     "execution_count": 12,
     "metadata": {},
     "output_type": "execute_result"
    }
   ],
   "source": [
    "x.toarray()"
   ]
  },
  {
   "cell_type": "code",
   "execution_count": 13,
   "metadata": {},
   "outputs": [
    {
     "data": {
      "text/plain": [
       "array(['amazing', 'best', 'game', 'great', 'series', 'thrones', 'tv'],\n",
       "      dtype=object)"
      ]
     },
     "execution_count": 13,
     "metadata": {},
     "output_type": "execute_result"
    }
   ],
   "source": [
    "vectorizer.get_feature_names_out()"
   ]
  },
  {
   "cell_type": "code",
   "execution_count": 2,
   "metadata": {},
   "outputs": [],
   "source": [
    "import pandas as pd"
   ]
  },
  {
   "cell_type": "code",
   "execution_count": 19,
   "metadata": {},
   "outputs": [
    {
     "data": {
      "text/html": [
       "<div>\n",
       "<style scoped>\n",
       "    .dataframe tbody tr th:only-of-type {\n",
       "        vertical-align: middle;\n",
       "    }\n",
       "\n",
       "    .dataframe tbody tr th {\n",
       "        vertical-align: top;\n",
       "    }\n",
       "\n",
       "    .dataframe thead th {\n",
       "        text-align: right;\n",
       "    }\n",
       "</style>\n",
       "<table border=\"1\" class=\"dataframe\">\n",
       "  <thead>\n",
       "    <tr style=\"text-align: right;\">\n",
       "      <th></th>\n",
       "      <th>amazing</th>\n",
       "      <th>best</th>\n",
       "      <th>game</th>\n",
       "      <th>great</th>\n",
       "      <th>series</th>\n",
       "      <th>thrones</th>\n",
       "      <th>tv</th>\n",
       "    </tr>\n",
       "  </thead>\n",
       "  <tbody>\n",
       "    <tr>\n",
       "      <th>0</th>\n",
       "      <td>1</td>\n",
       "      <td>0</td>\n",
       "      <td>1</td>\n",
       "      <td>0</td>\n",
       "      <td>1</td>\n",
       "      <td>1</td>\n",
       "      <td>1</td>\n",
       "    </tr>\n",
       "    <tr>\n",
       "      <th>1</th>\n",
       "      <td>0</td>\n",
       "      <td>1</td>\n",
       "      <td>1</td>\n",
       "      <td>0</td>\n",
       "      <td>1</td>\n",
       "      <td>1</td>\n",
       "      <td>1</td>\n",
       "    </tr>\n",
       "    <tr>\n",
       "      <th>2</th>\n",
       "      <td>0</td>\n",
       "      <td>0</td>\n",
       "      <td>1</td>\n",
       "      <td>1</td>\n",
       "      <td>0</td>\n",
       "      <td>1</td>\n",
       "      <td>0</td>\n",
       "    </tr>\n",
       "  </tbody>\n",
       "</table>\n",
       "</div>"
      ],
      "text/plain": [
       "   amazing  best  game  great  series  thrones  tv\n",
       "0        1     0     1      0       1        1   1\n",
       "1        0     1     1      0       1        1   1\n",
       "2        0     0     1      1       0        1   0"
      ]
     },
     "execution_count": 19,
     "metadata": {},
     "output_type": "execute_result"
    }
   ],
   "source": [
    "dfBow = pd.DataFrame(x.toarray(),columns=vectorizer.get_feature_names_out())\n",
    "dfBow.head()"
   ]
  },
  {
   "cell_type": "code",
   "execution_count": 21,
   "metadata": {},
   "outputs": [
    {
     "data": {
      "text/html": [
       "<div>\n",
       "<style scoped>\n",
       "    .dataframe tbody tr th:only-of-type {\n",
       "        vertical-align: middle;\n",
       "    }\n",
       "\n",
       "    .dataframe tbody tr th {\n",
       "        vertical-align: top;\n",
       "    }\n",
       "\n",
       "    .dataframe thead th {\n",
       "        text-align: right;\n",
       "    }\n",
       "</style>\n",
       "<table border=\"1\" class=\"dataframe\">\n",
       "  <thead>\n",
       "    <tr style=\"text-align: right;\">\n",
       "      <th></th>\n",
       "      <th>amazing</th>\n",
       "      <th>amazing tv</th>\n",
       "      <th>best</th>\n",
       "      <th>best tv</th>\n",
       "      <th>game</th>\n",
       "      <th>game thrones</th>\n",
       "      <th>great</th>\n",
       "      <th>series</th>\n",
       "      <th>thrones</th>\n",
       "      <th>thrones amazing</th>\n",
       "      <th>thrones best</th>\n",
       "      <th>thrones great</th>\n",
       "      <th>tv</th>\n",
       "      <th>tv series</th>\n",
       "    </tr>\n",
       "  </thead>\n",
       "  <tbody>\n",
       "    <tr>\n",
       "      <th>0</th>\n",
       "      <td>1</td>\n",
       "      <td>1</td>\n",
       "      <td>0</td>\n",
       "      <td>0</td>\n",
       "      <td>1</td>\n",
       "      <td>1</td>\n",
       "      <td>0</td>\n",
       "      <td>1</td>\n",
       "      <td>1</td>\n",
       "      <td>1</td>\n",
       "      <td>0</td>\n",
       "      <td>0</td>\n",
       "      <td>1</td>\n",
       "      <td>1</td>\n",
       "    </tr>\n",
       "    <tr>\n",
       "      <th>1</th>\n",
       "      <td>0</td>\n",
       "      <td>0</td>\n",
       "      <td>1</td>\n",
       "      <td>1</td>\n",
       "      <td>1</td>\n",
       "      <td>1</td>\n",
       "      <td>0</td>\n",
       "      <td>1</td>\n",
       "      <td>1</td>\n",
       "      <td>0</td>\n",
       "      <td>1</td>\n",
       "      <td>0</td>\n",
       "      <td>1</td>\n",
       "      <td>1</td>\n",
       "    </tr>\n",
       "    <tr>\n",
       "      <th>2</th>\n",
       "      <td>0</td>\n",
       "      <td>0</td>\n",
       "      <td>0</td>\n",
       "      <td>0</td>\n",
       "      <td>1</td>\n",
       "      <td>1</td>\n",
       "      <td>1</td>\n",
       "      <td>0</td>\n",
       "      <td>1</td>\n",
       "      <td>0</td>\n",
       "      <td>0</td>\n",
       "      <td>1</td>\n",
       "      <td>0</td>\n",
       "      <td>0</td>\n",
       "    </tr>\n",
       "  </tbody>\n",
       "</table>\n",
       "</div>"
      ],
      "text/plain": [
       "   amazing  amazing tv  best  best tv  game  game thrones  great  series  \\\n",
       "0        1           1     0        0     1             1      0       1   \n",
       "1        0           0     1        1     1             1      0       1   \n",
       "2        0           0     0        0     1             1      1       0   \n",
       "\n",
       "   thrones  thrones amazing  thrones best  thrones great  tv  tv series  \n",
       "0        1                1             0              0   1          1  \n",
       "1        1                0             1              0   1          1  \n",
       "2        1                0             0              1   0          0  "
      ]
     },
     "execution_count": 21,
     "metadata": {},
     "output_type": "execute_result"
    }
   ],
   "source": [
    "# Unigram and Bigram\n",
    "\n",
    "vectorizer = CountVectorizer(stop_words='english',ngram_range=(1,2))\n",
    "x = vectorizer.fit_transform([doc1,doc2,doc3])\n",
    "dfBow = pd.DataFrame(x.toarray(),columns=vectorizer.get_feature_names_out())\n",
    "dfBow.head()"
   ]
  },
  {
   "cell_type": "code",
   "execution_count": 25,
   "metadata": {},
   "outputs": [
    {
     "data": {
      "text/html": [
       "<div>\n",
       "<style scoped>\n",
       "    .dataframe tbody tr th:only-of-type {\n",
       "        vertical-align: middle;\n",
       "    }\n",
       "\n",
       "    .dataframe tbody tr th {\n",
       "        vertical-align: top;\n",
       "    }\n",
       "\n",
       "    .dataframe thead th {\n",
       "        text-align: right;\n",
       "    }\n",
       "</style>\n",
       "<table border=\"1\" class=\"dataframe\">\n",
       "  <thead>\n",
       "    <tr style=\"text-align: right;\">\n",
       "      <th></th>\n",
       "      <th>amazing tv</th>\n",
       "      <th>best tv</th>\n",
       "      <th>game thrones</th>\n",
       "      <th>thrones amazing</th>\n",
       "      <th>thrones best</th>\n",
       "      <th>thrones great</th>\n",
       "      <th>tv series</th>\n",
       "    </tr>\n",
       "  </thead>\n",
       "  <tbody>\n",
       "    <tr>\n",
       "      <th>0</th>\n",
       "      <td>1</td>\n",
       "      <td>0</td>\n",
       "      <td>1</td>\n",
       "      <td>1</td>\n",
       "      <td>0</td>\n",
       "      <td>0</td>\n",
       "      <td>1</td>\n",
       "    </tr>\n",
       "    <tr>\n",
       "      <th>1</th>\n",
       "      <td>0</td>\n",
       "      <td>1</td>\n",
       "      <td>1</td>\n",
       "      <td>0</td>\n",
       "      <td>1</td>\n",
       "      <td>0</td>\n",
       "      <td>1</td>\n",
       "    </tr>\n",
       "    <tr>\n",
       "      <th>2</th>\n",
       "      <td>0</td>\n",
       "      <td>0</td>\n",
       "      <td>1</td>\n",
       "      <td>0</td>\n",
       "      <td>0</td>\n",
       "      <td>1</td>\n",
       "      <td>0</td>\n",
       "    </tr>\n",
       "  </tbody>\n",
       "</table>\n",
       "</div>"
      ],
      "text/plain": [
       "   amazing tv  best tv  game thrones  thrones amazing  thrones best  \\\n",
       "0           1        0             1                1             0   \n",
       "1           0        1             1                0             1   \n",
       "2           0        0             1                0             0   \n",
       "\n",
       "   thrones great  tv series  \n",
       "0              0          1  \n",
       "1              0          1  \n",
       "2              1          0  "
      ]
     },
     "execution_count": 25,
     "metadata": {},
     "output_type": "execute_result"
    }
   ],
   "source": [
    "# Bigram only\n",
    "\n",
    "vectorizer = CountVectorizer(stop_words='english',ngram_range=(2,2))\n",
    "x = vectorizer.fit_transform([doc1,doc2,doc3])\n",
    "dfBow = pd.DataFrame(x.toarray(),columns=vectorizer.get_feature_names_out())\n",
    "dfBow.head()"
   ]
  },
  {
   "cell_type": "code",
   "execution_count": 26,
   "metadata": {},
   "outputs": [
    {
     "data": {
      "text/html": [
       "<div>\n",
       "<style scoped>\n",
       "    .dataframe tbody tr th:only-of-type {\n",
       "        vertical-align: middle;\n",
       "    }\n",
       "\n",
       "    .dataframe tbody tr th {\n",
       "        vertical-align: top;\n",
       "    }\n",
       "\n",
       "    .dataframe thead th {\n",
       "        text-align: right;\n",
       "    }\n",
       "</style>\n",
       "<table border=\"1\" class=\"dataframe\">\n",
       "  <thead>\n",
       "    <tr style=\"text-align: right;\">\n",
       "      <th></th>\n",
       "      <th>amazing</th>\n",
       "      <th>amazing tv</th>\n",
       "      <th>amazing tv series</th>\n",
       "      <th>best</th>\n",
       "      <th>best tv</th>\n",
       "      <th>best tv series</th>\n",
       "      <th>game</th>\n",
       "      <th>game thrones</th>\n",
       "      <th>game thrones amazing</th>\n",
       "      <th>game thrones best</th>\n",
       "      <th>...</th>\n",
       "      <th>great</th>\n",
       "      <th>series</th>\n",
       "      <th>thrones</th>\n",
       "      <th>thrones amazing</th>\n",
       "      <th>thrones amazing tv</th>\n",
       "      <th>thrones best</th>\n",
       "      <th>thrones best tv</th>\n",
       "      <th>thrones great</th>\n",
       "      <th>tv</th>\n",
       "      <th>tv series</th>\n",
       "    </tr>\n",
       "  </thead>\n",
       "  <tbody>\n",
       "    <tr>\n",
       "      <th>0</th>\n",
       "      <td>1</td>\n",
       "      <td>1</td>\n",
       "      <td>1</td>\n",
       "      <td>0</td>\n",
       "      <td>0</td>\n",
       "      <td>0</td>\n",
       "      <td>1</td>\n",
       "      <td>1</td>\n",
       "      <td>1</td>\n",
       "      <td>0</td>\n",
       "      <td>...</td>\n",
       "      <td>0</td>\n",
       "      <td>1</td>\n",
       "      <td>1</td>\n",
       "      <td>1</td>\n",
       "      <td>1</td>\n",
       "      <td>0</td>\n",
       "      <td>0</td>\n",
       "      <td>0</td>\n",
       "      <td>1</td>\n",
       "      <td>1</td>\n",
       "    </tr>\n",
       "    <tr>\n",
       "      <th>1</th>\n",
       "      <td>0</td>\n",
       "      <td>0</td>\n",
       "      <td>0</td>\n",
       "      <td>1</td>\n",
       "      <td>1</td>\n",
       "      <td>1</td>\n",
       "      <td>1</td>\n",
       "      <td>1</td>\n",
       "      <td>0</td>\n",
       "      <td>1</td>\n",
       "      <td>...</td>\n",
       "      <td>0</td>\n",
       "      <td>1</td>\n",
       "      <td>1</td>\n",
       "      <td>0</td>\n",
       "      <td>0</td>\n",
       "      <td>1</td>\n",
       "      <td>1</td>\n",
       "      <td>0</td>\n",
       "      <td>1</td>\n",
       "      <td>1</td>\n",
       "    </tr>\n",
       "    <tr>\n",
       "      <th>2</th>\n",
       "      <td>0</td>\n",
       "      <td>0</td>\n",
       "      <td>0</td>\n",
       "      <td>0</td>\n",
       "      <td>0</td>\n",
       "      <td>0</td>\n",
       "      <td>1</td>\n",
       "      <td>1</td>\n",
       "      <td>0</td>\n",
       "      <td>0</td>\n",
       "      <td>...</td>\n",
       "      <td>1</td>\n",
       "      <td>0</td>\n",
       "      <td>1</td>\n",
       "      <td>0</td>\n",
       "      <td>0</td>\n",
       "      <td>0</td>\n",
       "      <td>0</td>\n",
       "      <td>1</td>\n",
       "      <td>0</td>\n",
       "      <td>0</td>\n",
       "    </tr>\n",
       "  </tbody>\n",
       "</table>\n",
       "<p>3 rows × 21 columns</p>\n",
       "</div>"
      ],
      "text/plain": [
       "   amazing  amazing tv  amazing tv series  best  best tv  best tv series  \\\n",
       "0        1           1                  1     0        0               0   \n",
       "1        0           0                  0     1        1               1   \n",
       "2        0           0                  0     0        0               0   \n",
       "\n",
       "   game  game thrones  game thrones amazing  game thrones best  ...  great  \\\n",
       "0     1             1                     1                  0  ...      0   \n",
       "1     1             1                     0                  1  ...      0   \n",
       "2     1             1                     0                  0  ...      1   \n",
       "\n",
       "   series  thrones  thrones amazing  thrones amazing tv  thrones best  \\\n",
       "0       1        1                1                   1             0   \n",
       "1       1        1                0                   0             1   \n",
       "2       0        1                0                   0             0   \n",
       "\n",
       "   thrones best tv  thrones great  tv  tv series  \n",
       "0                0              0   1          1  \n",
       "1                1              0   1          1  \n",
       "2                0              1   0          0  \n",
       "\n",
       "[3 rows x 21 columns]"
      ]
     },
     "execution_count": 26,
     "metadata": {},
     "output_type": "execute_result"
    }
   ],
   "source": [
    "# Unigram,Bigram and Trigram\n",
    "\n",
    "vectorizer = CountVectorizer(stop_words='english',ngram_range=(1,3))\n",
    "x = vectorizer.fit_transform([doc1,doc2,doc3])\n",
    "dfBow = pd.DataFrame(x.toarray(),columns=vectorizer.get_feature_names_out())\n",
    "dfBow.head()"
   ]
  },
  {
   "cell_type": "code",
   "execution_count": 28,
   "metadata": {},
   "outputs": [
    {
     "data": {
      "text/plain": [
       "{'game': 6,\n",
       " 'thrones': 13,\n",
       " 'amazing': 0,\n",
       " 'tv': 19,\n",
       " 'series': 12,\n",
       " 'game thrones': 7,\n",
       " 'thrones amazing': 14,\n",
       " 'amazing tv': 1,\n",
       " 'tv series': 20,\n",
       " 'game thrones amazing': 8,\n",
       " 'thrones amazing tv': 15,\n",
       " 'amazing tv series': 2,\n",
       " 'best': 3,\n",
       " 'thrones best': 16,\n",
       " 'best tv': 4,\n",
       " 'game thrones best': 9,\n",
       " 'thrones best tv': 17,\n",
       " 'best tv series': 5,\n",
       " 'great': 11,\n",
       " 'thrones great': 18,\n",
       " 'game thrones great': 10}"
      ]
     },
     "execution_count": 28,
     "metadata": {},
     "output_type": "execute_result"
    }
   ],
   "source": [
    "# This will show the index of each columns and from that we can take columns with meaningful words.\n",
    "vectorizer.vocabulary_"
   ]
  },
  {
   "cell_type": "markdown",
   "metadata": {},
   "source": [
    "# TF-IDF"
   ]
  },
  {
   "cell_type": "code",
   "execution_count": 3,
   "metadata": {},
   "outputs": [],
   "source": [
    "from sklearn.feature_extraction.text import TfidfVectorizer"
   ]
  },
  {
   "cell_type": "code",
   "execution_count": 5,
   "metadata": {},
   "outputs": [],
   "source": [
    "d1 = \"petrol cars are cheaper than diesel cars\"\n",
    "\n",
    "d2 = \"diesel is cheaper than petrol\""
   ]
  },
  {
   "cell_type": "code",
   "execution_count": 7,
   "metadata": {},
   "outputs": [],
   "source": [
    "doc_corpus=[d1,d2]"
   ]
  },
  {
   "cell_type": "code",
   "execution_count": 10,
   "metadata": {},
   "outputs": [
    {
     "name": "stdout",
     "output_type": "stream",
     "text": [
      "Feature Name found - ['cars' 'cheaper' 'diesel' 'petrol']\n"
     ]
    }
   ],
   "source": [
    "tfVec = TfidfVectorizer(stop_words='english')\n",
    "tfVec_fit = tfVec.fit_transform(doc_corpus)\n",
    "print(f\"Feature Name found - {tfVec.get_feature_names_out()}\")"
   ]
  },
  {
   "cell_type": "code",
   "execution_count": 11,
   "metadata": {},
   "outputs": [
    {
     "data": {
      "text/plain": [
       "array([[0.85135433, 0.30287281, 0.30287281, 0.30287281],\n",
       "       [0.        , 0.57735027, 0.57735027, 0.57735027]])"
      ]
     },
     "execution_count": 11,
     "metadata": {},
     "output_type": "execute_result"
    }
   ],
   "source": [
    "tfVec_fit.toarray()"
   ]
  },
  {
   "cell_type": "code",
   "execution_count": 16,
   "metadata": {},
   "outputs": [
    {
     "name": "stdout",
     "output_type": "stream",
     "text": [
      "Feature Name found - ['cars' 'cars cheaper' 'cars cheaper diesel' 'cheaper' 'cheaper diesel'\n",
      " 'cheaper diesel cars' 'cheaper petrol' 'diesel' 'diesel cars'\n",
      " 'diesel cheaper' 'diesel cheaper petrol' 'petrol' 'petrol cars'\n",
      " 'petrol cars cheaper']\n"
     ]
    },
    {
     "data": {
      "text/html": [
       "<div>\n",
       "<style scoped>\n",
       "    .dataframe tbody tr th:only-of-type {\n",
       "        vertical-align: middle;\n",
       "    }\n",
       "\n",
       "    .dataframe tbody tr th {\n",
       "        vertical-align: top;\n",
       "    }\n",
       "\n",
       "    .dataframe thead th {\n",
       "        text-align: right;\n",
       "    }\n",
       "</style>\n",
       "<table border=\"1\" class=\"dataframe\">\n",
       "  <thead>\n",
       "    <tr style=\"text-align: right;\">\n",
       "      <th></th>\n",
       "      <th>cars</th>\n",
       "      <th>cars cheaper</th>\n",
       "      <th>cars cheaper diesel</th>\n",
       "      <th>cheaper</th>\n",
       "      <th>cheaper diesel</th>\n",
       "      <th>cheaper diesel cars</th>\n",
       "      <th>cheaper petrol</th>\n",
       "      <th>diesel</th>\n",
       "      <th>diesel cars</th>\n",
       "      <th>diesel cheaper</th>\n",
       "      <th>diesel cheaper petrol</th>\n",
       "      <th>petrol</th>\n",
       "      <th>petrol cars</th>\n",
       "      <th>petrol cars cheaper</th>\n",
       "    </tr>\n",
       "  </thead>\n",
       "  <tbody>\n",
       "    <tr>\n",
       "      <th>0</th>\n",
       "      <td>0.565262</td>\n",
       "      <td>0.282631</td>\n",
       "      <td>0.282631</td>\n",
       "      <td>0.201094</td>\n",
       "      <td>0.282631</td>\n",
       "      <td>0.282631</td>\n",
       "      <td>0.000000</td>\n",
       "      <td>0.201094</td>\n",
       "      <td>0.282631</td>\n",
       "      <td>0.000000</td>\n",
       "      <td>0.000000</td>\n",
       "      <td>0.201094</td>\n",
       "      <td>0.282631</td>\n",
       "      <td>0.282631</td>\n",
       "    </tr>\n",
       "    <tr>\n",
       "      <th>1</th>\n",
       "      <td>0.000000</td>\n",
       "      <td>0.000000</td>\n",
       "      <td>0.000000</td>\n",
       "      <td>0.334712</td>\n",
       "      <td>0.000000</td>\n",
       "      <td>0.000000</td>\n",
       "      <td>0.470426</td>\n",
       "      <td>0.334712</td>\n",
       "      <td>0.000000</td>\n",
       "      <td>0.470426</td>\n",
       "      <td>0.470426</td>\n",
       "      <td>0.334712</td>\n",
       "      <td>0.000000</td>\n",
       "      <td>0.000000</td>\n",
       "    </tr>\n",
       "  </tbody>\n",
       "</table>\n",
       "</div>"
      ],
      "text/plain": [
       "       cars  cars cheaper  cars cheaper diesel   cheaper  cheaper diesel  \\\n",
       "0  0.565262      0.282631             0.282631  0.201094        0.282631   \n",
       "1  0.000000      0.000000             0.000000  0.334712        0.000000   \n",
       "\n",
       "   cheaper diesel cars  cheaper petrol    diesel  diesel cars  diesel cheaper  \\\n",
       "0             0.282631        0.000000  0.201094     0.282631        0.000000   \n",
       "1             0.000000        0.470426  0.334712     0.000000        0.470426   \n",
       "\n",
       "   diesel cheaper petrol    petrol  petrol cars  petrol cars cheaper  \n",
       "0               0.000000  0.201094     0.282631             0.282631  \n",
       "1               0.470426  0.334712     0.000000             0.000000  "
      ]
     },
     "execution_count": 16,
     "metadata": {},
     "output_type": "execute_result"
    }
   ],
   "source": [
    "# Single Execution\n",
    "\n",
    "tfVec = TfidfVectorizer(stop_words='english',ngram_range=(1,3))\n",
    "tfVec_fit = tfVec.fit_transform(doc_corpus)\n",
    "print(f\"Feature Name found - {tfVec.get_feature_names_out()}\")\n",
    "dfTFIDF = pd.DataFrame(tfVec_fit.toarray(),columns=tfVec.get_feature_names_out())\n",
    "dfTFIDF.head()"
   ]
  },
  {
   "cell_type": "code",
   "execution_count": 17,
   "metadata": {},
   "outputs": [
    {
     "name": "stdout",
     "output_type": "stream",
     "text": [
      "Feature Name found - ['cars' 'cars cheaper' 'cars cheaper diesel' 'cheaper' 'cheaper diesel'\n",
      " 'cheaper diesel cars' 'cheaper petrol' 'diesel' 'diesel cars' 'petrol']\n"
     ]
    },
    {
     "data": {
      "text/html": [
       "<div>\n",
       "<style scoped>\n",
       "    .dataframe tbody tr th:only-of-type {\n",
       "        vertical-align: middle;\n",
       "    }\n",
       "\n",
       "    .dataframe tbody tr th {\n",
       "        vertical-align: top;\n",
       "    }\n",
       "\n",
       "    .dataframe thead th {\n",
       "        text-align: right;\n",
       "    }\n",
       "</style>\n",
       "<table border=\"1\" class=\"dataframe\">\n",
       "  <thead>\n",
       "    <tr style=\"text-align: right;\">\n",
       "      <th></th>\n",
       "      <th>cars</th>\n",
       "      <th>cars cheaper</th>\n",
       "      <th>cars cheaper diesel</th>\n",
       "      <th>cheaper</th>\n",
       "      <th>cheaper diesel</th>\n",
       "      <th>cheaper diesel cars</th>\n",
       "      <th>cheaper petrol</th>\n",
       "      <th>diesel</th>\n",
       "      <th>diesel cars</th>\n",
       "      <th>petrol</th>\n",
       "    </tr>\n",
       "  </thead>\n",
       "  <tbody>\n",
       "    <tr>\n",
       "      <th>0</th>\n",
       "      <td>0.616664</td>\n",
       "      <td>0.308332</td>\n",
       "      <td>0.308332</td>\n",
       "      <td>0.219381</td>\n",
       "      <td>0.308332</td>\n",
       "      <td>0.308332</td>\n",
       "      <td>0.000000</td>\n",
       "      <td>0.219381</td>\n",
       "      <td>0.308332</td>\n",
       "      <td>0.219381</td>\n",
       "    </tr>\n",
       "    <tr>\n",
       "      <th>1</th>\n",
       "      <td>0.000000</td>\n",
       "      <td>0.000000</td>\n",
       "      <td>0.000000</td>\n",
       "      <td>0.448321</td>\n",
       "      <td>0.000000</td>\n",
       "      <td>0.000000</td>\n",
       "      <td>0.630099</td>\n",
       "      <td>0.448321</td>\n",
       "      <td>0.000000</td>\n",
       "      <td>0.448321</td>\n",
       "    </tr>\n",
       "  </tbody>\n",
       "</table>\n",
       "</div>"
      ],
      "text/plain": [
       "       cars  cars cheaper  cars cheaper diesel   cheaper  cheaper diesel  \\\n",
       "0  0.616664      0.308332             0.308332  0.219381        0.308332   \n",
       "1  0.000000      0.000000             0.000000  0.448321        0.000000   \n",
       "\n",
       "   cheaper diesel cars  cheaper petrol    diesel  diesel cars    petrol  \n",
       "0             0.308332        0.000000  0.219381     0.308332  0.219381  \n",
       "1             0.000000        0.630099  0.448321     0.000000  0.448321  "
      ]
     },
     "execution_count": 17,
     "metadata": {},
     "output_type": "execute_result"
    }
   ],
   "source": [
    "# Single Execution\n",
    "\n",
    "tfVec = TfidfVectorizer(stop_words='english',ngram_range=(1,3),max_features=10)  \n",
    "\n",
    "# max_features will give the columns with maximum repeating count according to descending order.\n",
    "# so that columns with least repeating count can be removed.\n",
    "\n",
    "tfVec_fit = tfVec.fit_transform(doc_corpus)\n",
    "print(f\"Feature Name found - {tfVec.get_feature_names_out()}\")\n",
    "dfTFIDF = pd.DataFrame(tfVec_fit.toarray(),columns=tfVec.get_feature_names_out())\n",
    "dfTFIDF.head()"
   ]
  },
  {
   "cell_type": "markdown",
   "metadata": {},
   "source": [
    "### Cosine Similarity"
   ]
  },
  {
   "cell_type": "code",
   "execution_count": 22,
   "metadata": {},
   "outputs": [
    {
     "data": {
      "text/html": [
       "<div>\n",
       "<style scoped>\n",
       "    .dataframe tbody tr th:only-of-type {\n",
       "        vertical-align: middle;\n",
       "    }\n",
       "\n",
       "    .dataframe tbody tr th {\n",
       "        vertical-align: top;\n",
       "    }\n",
       "\n",
       "    .dataframe thead th {\n",
       "        text-align: right;\n",
       "    }\n",
       "</style>\n",
       "<table border=\"1\" class=\"dataframe\">\n",
       "  <thead>\n",
       "    <tr style=\"text-align: right;\">\n",
       "      <th></th>\n",
       "      <th>food</th>\n",
       "      <th>good</th>\n",
       "      <th>great</th>\n",
       "    </tr>\n",
       "  </thead>\n",
       "  <tbody>\n",
       "    <tr>\n",
       "      <th>0</th>\n",
       "      <td>1</td>\n",
       "      <td>1</td>\n",
       "      <td>1</td>\n",
       "    </tr>\n",
       "    <tr>\n",
       "      <th>1</th>\n",
       "      <td>1</td>\n",
       "      <td>1</td>\n",
       "      <td>0</td>\n",
       "    </tr>\n",
       "  </tbody>\n",
       "</table>\n",
       "</div>"
      ],
      "text/plain": [
       "   food  good  great\n",
       "0     1     1      1\n",
       "1     1     1      0"
      ]
     },
     "execution_count": 22,
     "metadata": {},
     "output_type": "execute_result"
    }
   ],
   "source": [
    "import numpy as np\n",
    "from numpy.linalg import norm\n",
    "\n",
    "d1 = \"Food is good and great\"  # +ve statement  \n",
    "d2 = \"The food is not good\"    # -ve statement\n",
    "\n",
    "from sklearn.feature_extraction.text import CountVectorizer\n",
    "vectorizer = CountVectorizer(stop_words='english')\n",
    "x = vectorizer.fit_transform([d1,d2])\n",
    "dfBow = pd.DataFrame(x.toarray(),columns=vectorizer.get_feature_names_out())\n",
    "dfBow.head()"
   ]
  },
  {
   "cell_type": "code",
   "execution_count": 24,
   "metadata": {},
   "outputs": [
    {
     "name": "stdout",
     "output_type": "stream",
     "text": [
      "Cosine similarity is 0.8164965809277259\n"
     ]
    }
   ],
   "source": [
    "d1_count=[1,1,1]\n",
    "d2_count=[1,1,0]\n",
    "\n",
    "cosine = np.dot(d1_count,d2_count)/(norm(d1_count)*norm(d2_count))\n",
    "print(f\"Cosine similarity is {cosine}\")"
   ]
  },
  {
   "cell_type": "code",
   "execution_count": 25,
   "metadata": {},
   "outputs": [
    {
     "name": "stdout",
     "output_type": "stream",
     "text": [
      "Feature Name found - ['food' 'good' 'great']\n"
     ]
    },
    {
     "data": {
      "text/html": [
       "<div>\n",
       "<style scoped>\n",
       "    .dataframe tbody tr th:only-of-type {\n",
       "        vertical-align: middle;\n",
       "    }\n",
       "\n",
       "    .dataframe tbody tr th {\n",
       "        vertical-align: top;\n",
       "    }\n",
       "\n",
       "    .dataframe thead th {\n",
       "        text-align: right;\n",
       "    }\n",
       "</style>\n",
       "<table border=\"1\" class=\"dataframe\">\n",
       "  <thead>\n",
       "    <tr style=\"text-align: right;\">\n",
       "      <th></th>\n",
       "      <th>food</th>\n",
       "      <th>good</th>\n",
       "      <th>great</th>\n",
       "    </tr>\n",
       "  </thead>\n",
       "  <tbody>\n",
       "    <tr>\n",
       "      <th>0</th>\n",
       "      <td>0.501549</td>\n",
       "      <td>0.501549</td>\n",
       "      <td>0.704909</td>\n",
       "    </tr>\n",
       "    <tr>\n",
       "      <th>1</th>\n",
       "      <td>0.707107</td>\n",
       "      <td>0.707107</td>\n",
       "      <td>0.000000</td>\n",
       "    </tr>\n",
       "  </tbody>\n",
       "</table>\n",
       "</div>"
      ],
      "text/plain": [
       "       food      good     great\n",
       "0  0.501549  0.501549  0.704909\n",
       "1  0.707107  0.707107  0.000000"
      ]
     },
     "execution_count": 25,
     "metadata": {},
     "output_type": "execute_result"
    }
   ],
   "source": [
    "tfVec = TfidfVectorizer(stop_words='english')\n",
    "tfVec_fit = tfVec.fit_transform([d1,d2])\n",
    "print(f\"Feature Name found - {tfVec.get_feature_names_out()}\")\n",
    "dfTFIDF = pd.DataFrame(tfVec_fit.toarray(),columns=tfVec.get_feature_names_out())\n",
    "dfTFIDF.head()"
   ]
  },
  {
   "cell_type": "code",
   "execution_count": 26,
   "metadata": {},
   "outputs": [
    {
     "name": "stdout",
     "output_type": "stream",
     "text": [
      "Cosine similarity is 0.7092975763535904\n"
     ]
    }
   ],
   "source": [
    "d1_count=[0.501549,0.501549,0.704909]\n",
    "d2_count=[0.707107,0.707107,0.000000]\n",
    "\n",
    "cosine = np.dot(d1_count,d2_count)/(norm(d1_count)*norm(d2_count))\n",
    "print(f\"Cosine similarity is {cosine}\")"
   ]
  },
  {
   "cell_type": "code",
   "execution_count": null,
   "metadata": {},
   "outputs": [],
   "source": []
  }
 ],
 "metadata": {
  "kernelspec": {
   "display_name": "Python 3.9.12 ('base')",
   "language": "python",
   "name": "python3"
  },
  "language_info": {
   "codemirror_mode": {
    "name": "ipython",
    "version": 3
   },
   "file_extension": ".py",
   "mimetype": "text/x-python",
   "name": "python",
   "nbconvert_exporter": "python",
   "pygments_lexer": "ipython3",
   "version": "3.9.12"
  },
  "orig_nbformat": 4,
  "vscode": {
   "interpreter": {
    "hash": "2a25ba668f13fcf467d88183e7645e19b46906129a42fe71d135f5c2beab900c"
   }
  }
 },
 "nbformat": 4,
 "nbformat_minor": 2
}
